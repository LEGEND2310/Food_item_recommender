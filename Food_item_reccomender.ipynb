{
 "cells": [
  {
   "cell_type": "code",
   "execution_count": 121,
   "metadata": {},
   "outputs": [],
   "source": [
    "import numpy as np\n",
    "import pandas as pd\n",
    "import matplotlib.pyplot as plt\n",
    "import seaborn as sns\n",
    "import string\n",
    "import nltk\n",
    "from nltk.corpus import stopwords\n",
    "import string\n",
    "from nltk.corpus import stopwords \n",
    "from nltk.tokenize import WordPunctTokenizer\n",
    "from sklearn.feature_extraction.text import CountVectorizer\n",
    "from sklearn.metrics.pairwise import cosine_similarity\n",
    "%matplotlib inline"
   ]
  },
  {
   "cell_type": "code",
   "execution_count": 122,
   "metadata": {},
   "outputs": [],
   "source": [
    "def get_title_from_index(index):\n",
    "\treturn df[df.index == index][\"title\"].values[0]\n",
    "\n",
    "def get_index_from_title(title):\n",
    "\treturn df[df.title == title][\"index\"].values[0]"
   ]
  },
  {
   "cell_type": "code",
   "execution_count": 123,
   "metadata": {},
   "outputs": [],
   "source": [
    "df=pd.read_csv('food_items.txt',index_col=0)"
   ]
  },
  {
   "cell_type": "code",
   "execution_count": 124,
   "metadata": {},
   "outputs": [],
   "source": [
    "df.fillna('',inplace=True)"
   ]
  },
  {
   "cell_type": "code",
   "execution_count": 125,
   "metadata": {},
   "outputs": [],
   "source": [
    "cv=CountVectorizer()\n",
    "count_matrix=cv.fit_transform(df['ingredients'])"
   ]
  },
  {
   "cell_type": "code",
   "execution_count": 126,
   "metadata": {},
   "outputs": [],
   "source": [
    "cosine_sim=cosine_similarity(count_matrix)\n",
    "df.reset_index(inplace=True)"
   ]
  },
  {
   "cell_type": "code",
   "execution_count": 133,
   "metadata": {},
   "outputs": [
    {
     "name": "stdout",
     "output_type": "stream",
     "text": [
      "Enter your preferred food item here: Coke Classic\n"
     ]
    }
   ],
   "source": [
    "food_user_likes = input(\"Enter your preferred food item here: \")"
   ]
  },
  {
   "cell_type": "code",
   "execution_count": 134,
   "metadata": {},
   "outputs": [],
   "source": [
    "food_index=get_index_from_title(food_user_likes)\n",
    "similar_food=list(enumerate(cosine_sim[food_index]))"
   ]
  },
  {
   "cell_type": "code",
   "execution_count": 135,
   "metadata": {},
   "outputs": [],
   "source": [
    "sorted_similar_food=sorted(similar_food,key=lambda x: x[1],reverse=True)"
   ]
  },
  {
   "cell_type": "code",
   "execution_count": 136,
   "metadata": {},
   "outputs": [
    {
     "name": "stdout",
     "output_type": "stream",
     "text": [
      "Coke Classic\n",
      "Coca-cola Soda 16.9 Oz 6 Pk\n",
      "Cherry Coke Soda 12 Oz, 12 Pk\n",
      "Coca-cola Soda 8 Oz, 6 Pk\n",
      "Coca-cola Soda 12 Oz, 24 Pk\n",
      "Coca-cola Soda 12 Oz, 12 Pk\n",
      "Cola, Cherry, 2.1 qt (2 lt)\n",
      "Rc Cherry Cola, 20 Fl Oz\n",
      "Rc Cola - 6pk / 16.9 Fl Oz\n",
      "RC Cola, 12 fl oz\n",
      "Classic Cola, 67.6 fl oz (2 qt 3.6 oz) 2 liter\n",
      "Dr Pepper, 12 Fl Oz, 20 Pack\n",
      "Dr Pepper, 1 L\n",
      "Dr Soda\n",
      "Dr Pepper, 24 fl oz\n",
      "Pepsi 7.5 Oz Cans - Pack of 24\n",
      "Dr Pepper 12 Fl Oz 24 Pk\n",
      "Dr Pepper 8 Fl Oz 8 Pk\n",
      "Pepsi Cola 24 Fl Oz 6 Pk\n",
      "Pepsi - 6pk/16 Fl Oz\n",
      "Pepsi Cola Soda 16.9 Oz, 6 Pk\n",
      "Dr Pepper 12 Fl Oz 8 Pk\n",
      "Dr Pepper 12 Fl Oz 12 Pk\n",
      "Pepsi\n",
      "Pepsi Cola Soda 12 Oz, 24 Pk\n",
      "Canada Dry Ginger Ale - 8pk/7.5 Fl Oz Cans\n",
      "Canada Dry Ginger Ale 8 Fl Oz 6 Pk\n",
      "Caffeine Free Pepsiï¿½ï¿½ 12 Pack 12 Fl. Oz. Cans\n",
      "Caffeine Free Dr Pepper, 2 L\n",
      "Pepsi\n",
      "Pepsi Cola Caffeine Free Soda 12 Oz, 12 Pk\n",
      "Pepsi Cola Caffeine Free Soda 2 L\n",
      "Seagram's Ginger Ale, 12 fl oz\n",
      "Coca-cola Mexican Soda 12 Oz\n",
      "Canada Dry Ginger Ale, 12 fl oz\n",
      "Canada Dry Ginger Ale 0.5 L 6 Pk\n",
      "Schweppes Ginger Ale .5 L Bottles 6 Pack\n",
      "Canada Dry Ginger Ale 20 Fl Oz\n",
      "Schweppes Ginger Ale - 8pk/7.5 Fl Oz Cans\n",
      "Canada Dry Ginger Ale - 1 L Bottle\n",
      "Canada Dry Ginger Ale, 12 fl oz\n",
      "Schweppes Ginger Ale 12 Fl Oz 12 Pk\n",
      "Canada Dry Ginger Ale 12 Fl Oz 12 Pk\n",
      "Dr Pepper 0.5 L 6 Pk\n",
      "A_W Cream Soda, 12 fl oz\n",
      "Aw Cream Soda 20 Fl Oz\n",
      "Diet Aw Cream Soda 2 L Bottle\n",
      "Vernors Ginger Soda, 12 fl oz\n",
      "Dr Pepper Ten 20 Fl Oz\n",
      "Polar Tonic Water - 1 Liter\n",
      "Schweppes Ginger Ale - 6pk/10 Fl Oz Glass Bottles\n"
     ]
    }
   ],
   "source": [
    "i=0\n",
    "for food in sorted_similar_food:\n",
    "    print(get_title_from_index(food[0]))\n",
    "    i=i+1\n",
    "    if i>50:\n",
    "        break"
   ]
  }
 ],
 "metadata": {
  "kernelspec": {
   "display_name": "Python 3",
   "language": "python",
   "name": "python3"
  },
  "language_info": {
   "codemirror_mode": {
    "name": "ipython",
    "version": 3
   },
   "file_extension": ".py",
   "mimetype": "text/x-python",
   "name": "python",
   "nbconvert_exporter": "python",
   "pygments_lexer": "ipython3",
   "version": "3.7.6"
  }
 },
 "nbformat": 4,
 "nbformat_minor": 4
}
